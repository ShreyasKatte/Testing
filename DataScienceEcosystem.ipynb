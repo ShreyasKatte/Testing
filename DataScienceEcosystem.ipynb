{
 "cells": [
  {
   "cell_type": "markdown",
   "id": "576d3045",
   "metadata": {},
   "source": [
    "# Data Science Tools and Ecosystem"
   ]
  },
  {
   "cell_type": "markdown",
   "id": "858285e4",
   "metadata": {},
   "source": [
    "In this notebook, Data Science Tools and Ecosystem are summarized"
   ]
  },
  {
   "cell_type": "markdown",
   "id": "1028d4f4",
   "metadata": {},
   "source": [
    "Some of the popular languages that Data Scientists use are:\n",
    "1. Python\n",
    "2. R\n",
    "3. SQL"
   ]
  },
  {
   "cell_type": "markdown",
   "id": "6fde3b5e",
   "metadata": {},
   "source": [
    "Some of the commonly used libraries used by Data Scientists include:\n",
    "1. NumPy\n",
    "2. Pandas\n",
    "3. Matplotlib"
   ]
  },
  {
   "cell_type": "markdown",
   "id": "502662e8",
   "metadata": {},
   "source": [
    "| Data Science Tools |\n",
    "|--------------------|\n",
    "| Jupyter Notebook   |\n",
    "| RStudio            |\n",
    "| PyCharm            |\n"
   ]
  },
  {
   "cell_type": "markdown",
   "id": "a8753127",
   "metadata": {},
   "source": [
    "### Below are a few examples of evaluating arithmetic expressions in Python.\n"
   ]
  },
  {
   "cell_type": "markdown",
   "id": "a54024b8",
   "metadata": {},
   "source": [
    "This is a simple arithmetic expression to multiply then add integers\n",
    "result=(3*4)+5\n",
    "print(result)"
   ]
  },
  {
   "cell_type": "markdown",
   "id": "9b8c9cec",
   "metadata": {},
   "source": [
    "# This is a simple arithmetic expression to multiply then add integers.\n",
    "\n",
    "result= (3*4)+5\n",
    "print('result')"
   ]
  },
  {
   "cell_type": "code",
   "execution_count": 6,
   "id": "01a98bb4",
   "metadata": {},
   "outputs": [
    {
     "data": {
      "text/plain": [
       "17"
      ]
     },
     "execution_count": 6,
     "metadata": {},
     "output_type": "execute_result"
    }
   ],
   "source": [
    "# This is a simple arithmetic expression to multiply then add integers.\n",
    "result = (3*4) + 5\n",
    "result"
   ]
  },
  {
   "cell_type": "code",
   "execution_count": 7,
   "id": "f36458de",
   "metadata": {},
   "outputs": [
    {
     "data": {
      "text/plain": [
       "3.3333333333333335"
      ]
     },
     "execution_count": 7,
     "metadata": {},
     "output_type": "execute_result"
    }
   ],
   "source": [
    "# This will convert 200 minutes to hours by dividing by 60\n",
    "minutes=200\n",
    "hours=minutes/60\n",
    "hours"
   ]
  },
  {
   "cell_type": "markdown",
   "id": "360d7e65",
   "metadata": {},
   "source": [
    "**Objectives:**\n",
    "\n",
    "- List popular languages for Data Science.\n",
    "- Introduce common libraries used in Data Science.\n",
    "- Explore development environments for Data Science.\n",
    "- Evaluate arithmetic expressions in Python.\n",
    "- Convert minutes to hours using Python."
   ]
  },
  {
   "cell_type": "markdown",
   "id": "8d5c28c2",
   "metadata": {},
   "source": [
    "## El James\n",
    "Jamie Dornan"
   ]
  },
  {
   "cell_type": "code",
   "execution_count": null,
   "id": "48b93ca9",
   "metadata": {},
   "outputs": [],
   "source": []
  }
 ],
 "metadata": {
  "kernelspec": {
   "display_name": "Python 3 (ipykernel)",
   "language": "python",
   "name": "python3"
  },
  "language_info": {
   "codemirror_mode": {
    "name": "ipython",
    "version": 3
   },
   "file_extension": ".py",
   "mimetype": "text/x-python",
   "name": "python",
   "nbconvert_exporter": "python",
   "pygments_lexer": "ipython3",
   "version": "3.9.7"
  }
 },
 "nbformat": 4,
 "nbformat_minor": 5
}
